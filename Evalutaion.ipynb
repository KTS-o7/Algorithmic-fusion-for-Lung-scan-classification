{
 "cells": [
  {
   "cell_type": "code",
   "execution_count": null,
   "metadata": {},
   "outputs": [],
   "source": [
    "import os\n",
    "import random\n",
    "import torch\n",
    "import torchvision.transforms as transforms\n",
    "\n",
    "from torchvision.io import read_image\n",
    "\n",
    "import dill"
   ]
  },
  {
   "cell_type": "code",
   "execution_count": null,
   "metadata": {},
   "outputs": [],
   "source": [
    "# Function to load the pre-trained model\n",
    "def load_model(model_path,multi = True):\n",
    "    if multi:\n",
    "        with open(model_path, 'rb') as f:\n",
    "            model = dill.load(f)\n",
    "        return model\n",
    "    else:\n",
    "        model = torch.load(model_path)\n",
    "        return model"
   ]
  },
  {
   "cell_type": "code",
   "execution_count": null,
   "metadata": {},
   "outputs": [],
   "source": [
    "def preprocess_image(image_path):\n",
    "    transform = transforms.Compose([\n",
    "    transforms.Resize((224, 224)),  # Resize the images to 224 x 224\n",
    "    transforms.Normalize(mean=[0.5], std=[0.5])  # Normalize the images\n",
    "])\n",
    "\n",
    "    image = read_image(image_path).float()  # Load and convert the image to a float tensor\n",
    "    image = image.repeat(3, 1, 1)  # Convert the image to 3 channels\n",
    "    image = transform(image)\n",
    "    image = image.unsqueeze(0)  # Add a batch dimension\n",
    "\n",
    "    return image"
   ]
  },
  {
   "cell_type": "code",
   "execution_count": null,
   "metadata": {},
   "outputs": [],
   "source": [
    "device = torch.device(\"cuda\" if torch.cuda.is_available() else \"cpu\")"
   ]
  },
  {
   "cell_type": "code",
   "execution_count": null,
   "metadata": {},
   "outputs": [],
   "source": [
    "# Function to get the output class\n",
    "def get_output_class(model, image):\n",
    "    with torch.no_grad():\n",
    "        output = model(image.to(device))  # Move the image to the appropriate device\n",
    "        _, predicted = torch.max(output.data, 1)\n",
    "        predicted_class = predicted.item()\n",
    "\n",
    "    # Map the predicted class index to the actual class name\n",
    "    classes = ['Covid19', 'Pneumonia', 'Negative']  # Replace with your actual class names\n",
    "    output_class = classes[predicted_class]\n",
    "\n",
    "    return output_class"
   ]
  },
  {
   "cell_type": "code",
   "execution_count": null,
   "metadata": {},
   "outputs": [],
   "source": [
    "# Load the pre-trained model\n",
    "model_path = '/home/krishnatejaswis/Files/VSCode/LungScan/Solo Models/vgg19_model.pth'\n",
    "model = load_model(model_path,multi=False)\n",
    "modelName = 'vgg19_model'\n",
    "model.eval()"
   ]
  },
  {
   "cell_type": "code",
   "execution_count": null,
   "metadata": {},
   "outputs": [],
   "source": [
    "# Define the root directory containing class directories\n",
    "root_dir = '/home/krishnatejaswis/Files/VSCode/LungScan/DataSetkaggle'"
   ]
  },
  {
   "cell_type": "code",
   "execution_count": null,
   "metadata": {},
   "outputs": [],
   "source": [
    "# Initialize list to store validation image paths\n",
    "validation_image_files = []"
   ]
  },
  {
   "cell_type": "code",
   "execution_count": null,
   "metadata": {},
   "outputs": [],
   "source": [
    "# Iterate through each class directory\n",
    "for class_name in os.listdir(root_dir):\n",
    "    #print(class_name)\n",
    "    class_dir = os.path.join(root_dir, class_name)\n",
    "    if os.path.isdir(class_dir):\n",
    "        # Get list of image files in the class directory\n",
    "        class_images = [os.path.join(class_dir, f) for f in os.listdir(class_dir)]\n",
    "        #print(class_images)\n",
    "        # Shuffle the image files\n",
    "        random.shuffle(class_images)\n",
    "        print(len(class_images))\n",
    "        # Select 30 images for validation from the shuffled list\n",
    "        #validation_image_files.extend(class_images[:30])\n",
    "        for i in range(len(class_images)):\n",
    "            validation_image_files.append((class_images[i],f'{class_name}'))"
   ]
  },
  {
   "cell_type": "code",
   "execution_count": null,
   "metadata": {},
   "outputs": [],
   "source": [
    "#print(len(validation_image_files))"
   ]
  },
  {
   "cell_type": "code",
   "execution_count": null,
   "metadata": {},
   "outputs": [],
   "source": [
    "# Shuffle the selected images again\n",
    "#random.shuffle(validation_image_files)\n",
    "#print(validation_image_files)\n",
    "outputTuples= []\n"
   ]
  },
  {
   "cell_type": "code",
   "execution_count": null,
   "metadata": {},
   "outputs": [],
   "source": [
    "\n",
    "# Validate the model on the selected images\n",
    "for image_file in validation_image_files:\n",
    "    input_image = preprocess_image(image_file[0])\n",
    "    output_class = get_output_class(model, input_image)\n",
    "    #print(f'Predicted class for {image_file}: {output_class}')\n",
    "    outputTuples.append((image_file,output_class))"
   ]
  },
  {
   "cell_type": "code",
   "execution_count": null,
   "metadata": {},
   "outputs": [],
   "source": [
    "#print(len(outputTuples))"
   ]
  },
  {
   "cell_type": "code",
   "execution_count": null,
   "metadata": {},
   "outputs": [],
   "source": [
    "counts = {'Covid19':0,'Pneumonia':0,'Negative':0}\n",
    "for obj in outputTuples:\n",
    "    if obj[1] == 'Covid19':\n",
    "        counts['Covid19']+=1\n",
    "    elif obj[1] == 'Pneumonia':\n",
    "        counts['Pneumonia']+=1\n",
    "    elif obj[1]=='Negative':\n",
    "        counts['Negative']+=1\n",
    "print(counts)"
   ]
  },
  {
   "cell_type": "code",
   "execution_count": null,
   "metadata": {},
   "outputs": [],
   "source": [
    "from sklearn.metrics import f1_score, accuracy_score, precision_score, recall_score, confusion_matrix\n",
    "import matplotlib.pyplot as plt\n",
    "import seaborn as sns"
   ]
  },
  {
   "cell_type": "code",
   "execution_count": null,
   "metadata": {},
   "outputs": [],
   "source": [
    "def get_output_class(model, image):\n",
    "    with torch.no_grad():\n",
    "        output = model(image.to(device))\n",
    "        _, predicted = torch.max(output.data, 1)\n",
    "        predicted_class = predicted.item()\n",
    "\n",
    "    return predicted_class"
   ]
  },
  {
   "cell_type": "code",
   "execution_count": null,
   "metadata": {},
   "outputs": [],
   "source": [
    "true_labels = []\n",
    "pred_labels = []"
   ]
  },
  {
   "cell_type": "code",
   "execution_count": null,
   "metadata": {},
   "outputs": [],
   "source": [
    "model.eval()\n",
    "for image_file in validation_image_files:\n",
    "    input_image = preprocess_image(image_file[0])\n",
    "    true_label = ['Covid19', 'Pneumonia', 'Negetive'].index(image_file[1])\n",
    "    true_labels.append(true_label)\n",
    "    predicted_class = get_output_class(model, input_image)\n",
    "    pred_labels.append(predicted_class)\n",
    "    #print(f'Predicted class for {image_file[0]}: {[\"Covid19\", \"Pneumonia\", \"Negetive\"][predicted_class]}')"
   ]
  },
  {
   "cell_type": "code",
   "execution_count": null,
   "metadata": {},
   "outputs": [],
   "source": [
    "accuracy = accuracy_score(true_labels, pred_labels)\n",
    "precision = precision_score(true_labels, pred_labels, average='macro')\n",
    "recall = recall_score(true_labels, pred_labels, average='macro')\n",
    "f1 = f1_score(true_labels, pred_labels, average='macro')"
   ]
  },
  {
   "cell_type": "code",
   "execution_count": null,
   "metadata": {},
   "outputs": [],
   "source": [
    "cm = confusion_matrix(true_labels, pred_labels)\n",
    "plt.figure(figsize=(10, 7))\n",
    "sns.heatmap(cm, annot=True, fmt='d', cmap='Blues')\n",
    "plt.xlabel('Predicted')\n",
    "plt.ylabel('True')\n",
    "plt.title('Confusion Matrix')\n",
    "plt.savefig(f\"./ValidationPlots/ConfusionMatrix{modelName}.png\")\n",
    "plt.show()"
   ]
  },
  {
   "cell_type": "code",
   "execution_count": null,
   "metadata": {},
   "outputs": [],
   "source": [
    "plt.figure(figsize=(8, 6))\n",
    "plt.bar(['Covid19', 'Pneumonia', 'Negative'], [counts['Covid19'], counts['Pneumonia'], counts['Negative']])\n",
    "plt.xlabel('Class')\n",
    "plt.ylabel('Count')\n",
    "plt.title('Class Distribution')\n",
    "plt.savefig(f\"./ValidationPlots/ClassDistribution{modelName}.png\")\n",
    "plt.show()"
   ]
  },
  {
   "cell_type": "code",
   "execution_count": null,
   "metadata": {},
   "outputs": [],
   "source": []
  },
  {
   "cell_type": "code",
   "execution_count": null,
   "metadata": {},
   "outputs": [],
   "source": [
    "# Print classification report\n",
    "from sklearn.metrics import classification_report\n",
    "print(\"\\nClassification Report:\")\n",
    "class_names = ['Covid19', 'Pneumonia', 'Negative']\n",
    "print(classification_report(true_labels, pred_labels, target_names=class_names))\n",
    "print(f\"F1 score ={f1:.4f}, Accuracy ={accuracy:.4f}, Precision = {precision:.4f}, recall = {recall:.4f} \")\n",
    "# Specify the file path\n",
    "output_file = '/home/krishnatejaswis/Files/VSCode/LungScan/ValidationPlots/classification_report.txt'\n",
    "\n",
    "# Open the file in write mode\n",
    "with open(output_file, 'a') as file:\n",
    "    # Write the classification report into the file\n",
    "    file.write(f\"\\n\\nClassification Report for {modelName}:\\n\")\n",
    "    file.write(classification_report(true_labels, pred_labels, target_names=class_names))\n",
    "    file.write(f\"F1 score ={f1:.4f}, Accuracy ={accuracy:.4f}, Precision = {precision:.4f}, recall = {recall:.4f} \\n\")\n",
    "\n",
    "# Print a message to confirm that the file has been written\n",
    "print(f\"Classification report has been written to {output_file}\")\n",
    "\n"
   ]
  }
 ],
 "metadata": {
  "kernelspec": {
   "display_name": "env",
   "language": "python",
   "name": "python3"
  },
  "language_info": {
   "codemirror_mode": {
    "name": "ipython",
    "version": 3
   },
   "file_extension": ".py",
   "mimetype": "text/x-python",
   "name": "python",
   "nbconvert_exporter": "python",
   "pygments_lexer": "ipython3",
   "version": "3.11.8"
  }
 },
 "nbformat": 4,
 "nbformat_minor": 2
}
